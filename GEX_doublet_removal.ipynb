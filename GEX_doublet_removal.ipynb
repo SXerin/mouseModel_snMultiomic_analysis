{
 "cells": [
  {
   "cell_type": "code",
   "execution_count": null,
   "id": "172c0e39-5b70-4a66-887b-ef01f91717fd",
   "metadata": {},
   "outputs": [],
   "source": [
    "import scanpy as sc\n",
    "import sys\n",
    "import os\n",
    "import matplotlib.pyplot as plt\n",
    "import pandas as pd\n",
    "import cellbender \n",
    "import scipy\n",
    "%matplotlib inline\n",
    "import scrublet as scr\n",
    "from scipy import io\n",
    "import matplotlib.pyplot as plt\n",
    "import numpy as np"
   ]
  },
  {
   "cell_type": "code",
   "execution_count": null,
   "id": "85391bc8-8a2a-42f7-9cc3-2a2ed00ee351",
   "metadata": {},
   "outputs": [],
   "source": [
    "import sys\n",
    "\n",
    "try:\n",
    "    from importlib import metadata\n",
    "except ImportError:\n",
    "    import importlib_metadata as metadata\n",
    "\n",
    "sys.modules['importlib.metadata'] = metadata"
   ]
  },
  {
   "cell_type": "markdown",
   "id": "0ba56c8f-b2d4-4a89-93ae-a8fd4f39295b",
   "metadata": {},
   "source": [
    "# Remove doublets for each sample using scrublet \n",
    "### documentation: https://github.com/swolock/scrublet"
   ]
  },
  {
   "cell_type": "markdown",
   "id": "55ce3deb-dbd8-4452-a8cf-935d3ba6027c",
   "metadata": {},
   "source": [
    "# <span style=\"color:green\"> Read-in cellbender output and inspect raw data"
   ]
  },
  {
   "cell_type": "code",
   "execution_count": null,
   "id": "8afe8045-2dbf-49b7-b914-115f412c679c",
   "metadata": {},
   "outputs": [],
   "source": [
    "input_dir = \"cellbender_data/WT2_gex_cellbender_filtered\"\n",
    "count_matrix = scipy.io.mmread(input_dir + '/matrix.mtx').T.tocsc()\n",
    "genes = np.array(scr.load_genes(input_dir + '/genes.tsv', delimiter='\\t', column=1))\n",
    "barcodes = pd.read_table(input_dir+\"/barcodes.tsv\", header = None)"
   ]
  },
  {
   "cell_type": "markdown",
   "id": "b4a0759d-c309-4e9b-ba0d-99912105d878",
   "metadata": {},
   "source": [
    "### making sure everything looks good"
   ]
  },
  {
   "cell_type": "code",
   "execution_count": null,
   "id": "27f2260a-c4e2-4ceb-ae1a-7930cb270344",
   "metadata": {},
   "outputs": [],
   "source": [
    "print(count_matrix.shape[0], count_matrix.shape[1])"
   ]
  },
  {
   "cell_type": "code",
   "execution_count": null,
   "id": "3bd7bb28-dd1f-47cd-b212-cfba33f5a1f4",
   "metadata": {},
   "outputs": [],
   "source": [
    "len(barcodes)"
   ]
  },
  {
   "cell_type": "code",
   "execution_count": null,
   "id": "019b8d85-0417-42cd-ae7c-a0de56e044ba",
   "metadata": {},
   "outputs": [],
   "source": [
    "print(len(genes))"
   ]
  },
  {
   "cell_type": "markdown",
   "id": "b927fc00-2f13-4ffb-acc2-2944173771f0",
   "metadata": {},
   "source": [
    "# <span style=\"color:green\"> Initiate srublet object with default parameters"
   ]
  },
  {
   "cell_type": "code",
   "execution_count": null,
   "id": "134ac097-a414-411a-9aa4-35bb1f178f5e",
   "metadata": {},
   "outputs": [],
   "source": [
    "scrub = scr.Scrublet(count_matrix)\n",
    "doublet_scores, predicted_doublets = scrub.scrub_doublets()\n"
   ]
  },
  {
   "cell_type": "code",
   "execution_count": null,
   "id": "cf668b39-56b9-48af-9315-39036939303a",
   "metadata": {},
   "outputs": [],
   "source": [
    "scrub.plot_histogram();"
   ]
  },
  {
   "cell_type": "markdown",
   "id": "c65d48ff-c9ae-450f-9819-8240dad266c8",
   "metadata": {},
   "source": [
    "# <span style=\"color:green\"> Adjust threshold if needed"
   ]
  },
  {
   "cell_type": "code",
   "execution_count": null,
   "id": "8624c189-ef88-4443-9a7b-53e00c58d250",
   "metadata": {},
   "outputs": [],
   "source": [
    "scrub.call_doublets(threshold=0.27)"
   ]
  },
  {
   "cell_type": "code",
   "execution_count": null,
   "id": "413aa361-9a34-4d69-954d-75b08a9b5566",
   "metadata": {},
   "outputs": [],
   "source": [
    "scrub.plot_histogram();"
   ]
  },
  {
   "cell_type": "code",
   "execution_count": null,
   "id": "8891a2f5-01e1-49b0-b5a7-711e9b5e2da4",
   "metadata": {},
   "outputs": [],
   "source": [
    "scrub.set_embedding('UMAP', scr.get_umap(scrub.manifold_obs_, 10, min_dist=0.3))\n",
    "scrub.plot_embedding('UMAP', order_points=True);"
   ]
  },
  {
   "cell_type": "markdown",
   "id": "e0c9555f-a356-4c67-ac8a-269c2726ff11",
   "metadata": {},
   "source": [
    "# <span style=\"color:green\"> Filter data based on the threshold"
   ]
  },
  {
   "cell_type": "code",
   "execution_count": null,
   "id": "39c7028a-3848-4515-ada2-bce1f7d2376c",
   "metadata": {},
   "outputs": [],
   "source": [
    "threshold = 0.27\n",
    "singlet = scrub.doublet_scores_obs_ < threshold\n",
    "doublet = scrub.doublet_scores_obs_ >= threshold"
   ]
  },
  {
   "cell_type": "code",
   "execution_count": null,
   "id": "40f6a465-ec32-4a77-b48a-eb2988faeac1",
   "metadata": {},
   "outputs": [],
   "source": [
    "# number of doublets\n",
    "sum(doublet)"
   ]
  },
  {
   "cell_type": "code",
   "execution_count": null,
   "id": "b153d1eb-6308-4a45-9e65-eda2b2aa73fb",
   "metadata": {},
   "outputs": [],
   "source": [
    "new_barcodes = barcodes[singlet]\n",
    "print(len(new_barcodes), sum(singlet))"
   ]
  },
  {
   "cell_type": "code",
   "execution_count": null,
   "id": "f8c239fd-7410-4ef9-8872-0807782f435a",
   "metadata": {},
   "outputs": [],
   "source": [
    "doublet_free_data = count_matrix[singlet]\n",
    "doublet_free_data"
   ]
  },
  {
   "cell_type": "code",
   "execution_count": null,
   "id": "6f627117-c99f-4dd0-9ce8-fbad8a135e54",
   "metadata": {},
   "outputs": [],
   "source": [
    "transposed_matrix = doublet_free_data.transpose()\n",
    "transposed_matrix"
   ]
  },
  {
   "cell_type": "markdown",
   "id": "086fad5d-0c2b-4d72-b7a3-7c99853c9b05",
   "metadata": {},
   "source": [
    "# <span style=\"color:green\"> Export doublet-free data "
   ]
  },
  {
   "cell_type": "code",
   "execution_count": null,
   "id": "03444d17-97b1-49ee-9f06-c131bc838ed1",
   "metadata": {},
   "outputs": [],
   "source": [
    "# !mkdir doublet_free_matrix "
   ]
  },
  {
   "cell_type": "code",
   "execution_count": null,
   "id": "208bf415-2fb7-4935-b3e0-a57cda3f40c1",
   "metadata": {},
   "outputs": [],
   "source": [
    "!mkdir doublet_free_matrix/WT2_matrix"
   ]
  },
  {
   "cell_type": "code",
   "execution_count": null,
   "id": "3e3e555b-19c7-410b-b955-273837bd9014",
   "metadata": {},
   "outputs": [],
   "source": [
    "io.mmwrite('doublet_free_matrix/WT2_matrix/matrix', transposed_matrix)\n",
    "new_barcodes.to_csv('doublet_free_matrix/WT2_matrix/barcodes.tsv', sep='\\t', index = False, header = False)"
   ]
  },
  {
   "cell_type": "markdown",
   "id": "0644d282-8cf2-4c32-80cd-d612b15387c4",
   "metadata": {
    "tags": []
   },
   "source": [
    "#### convert genes (arrary) to genes_df (dataframe) and write a features.tsv. 
   ]
  },
  {
   "cell_type": "code",
   "execution_count": null,
   "id": "9ab00c33-5418-480a-8a1c-ce902e4d6bd6",
   "metadata": {},
   "outputs": [],
   "source": [
    "genes_df = pd.DataFrame(genes)"
   ]
  },
  {
   "cell_type": "code",
   "execution_count": null,
   "id": "744dd289-d375-42c6-85d8-b0a6ced11b61",
   "metadata": {},
   "outputs": [],
   "source": [
    "genes_df.to_csv(\"features.tsv\", sep='\\t', index = False, header = False)"
   ]
  },
  {
   "cell_type": "code",
   "execution_count": null,
   "id": "8e874c29-ab6e-4909-8a68-25d77f55fd49",
   "metadata": {},
   "outputs": [],
   "source": []
  },
  {
   "cell_type": "code",
   "execution_count": null,
   "id": "56f8051b-c70f-4bf4-bb68-6d2ed9162cf2",
   "metadata": {},
   "outputs": [],
   "source": [
    "!gzip doublet_free_matrix/WT2_matrix/*"
   ]
  },
  {
   "cell_type": "code",
   "execution_count": null,
   "id": "188898cc-d2f0-4a82-8504-2589c9294832",
   "metadata": {},
   "outputs": [],
   "source": [
    "!ls doublet_free_matrix/WT2_matrix"
   ]
  }
 ],
 "metadata": {
  "kernelspec": {
   "display_name": "Python [conda env:root] *",
   "language": "python",
   "name": "conda-root-py"
  },
  "language_info": {
   "codemirror_mode": {
    "name": "ipython",
    "version": 3
   },
   "file_extension": ".py",
   "mimetype": "text/x-python",
   "name": "python",
   "nbconvert_exporter": "python",
   "pygments_lexer": "ipython3",
   "version": "3.10.12"
  }
 },
 "nbformat": 4,
 "nbformat_minor": 5
}
