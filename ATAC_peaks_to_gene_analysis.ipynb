{
 "cells": [
  {
   "cell_type": "code",
   "execution_count": null,
   "id": "c47b9717-3e3f-464e-b453-2497f9978924",
   "metadata": {
    "collapsed": true,
    "jupyter": {
     "outputs_hidden": true
    },
    "tags": [],
    "vscode": {
     "languageId": "r"
    }
   },
   "outputs": [],
   "source": [
    "library(Seurat)\n",
    "library(Signac)\n",
    "library(GenomeInfoDb)\n",
    "library(EnsDb.Mmusculus.v79)\n",
    "library(ggplot2)\n",
    "library(ggpubr)\n",
    "library(glue)\n",
    "library(scDblFinder)\n",
    "library(RColorBrewer)\n",
    "library(dplyr)\n",
    "library(ggridges)\n",
    "library(CopyscAT)\n",
    "library(BSgenome.Mmusculus.UCSC.mm10)\n",
    "library(harmony)\n",
    "library(RColorBrewer)\n",
    "library(data.table)\n",
    "library(patchwork)\n",
    "library(RColorBrewer)\n",
    "set.seed(123)\n"
   ]
  },
  {
   "cell_type": "markdown",
   "id": "d746854d-03b6-42ce-826e-372ad165558a",
   "metadata": {},
   "source": [
    "## merge ATAC and GEX data by shared cells"
   ]
  },
  {
   "cell_type": "code",
   "execution_count": 2,
   "id": "d3aaa501-e0cf-4a17-a7af-4ab5010768fa",
   "metadata": {
    "vscode": {
     "languageId": "r"
    }
   },
   "outputs": [],
   "source": [
    "atac_obj = readRDS(\"atac_subGex_clustered_obj.RDS\")\n"
   ]
  },
  {
   "cell_type": "code",
   "execution_count": 3,
   "id": "5e408395-9c56-4b78-a1c9-64449d18572a",
   "metadata": {
    "vscode": {
     "languageId": "r"
    }
   },
   "outputs": [],
   "source": [
    "gex_obj = readRDS(\"./gex/GEX_cDC1_clustered.RDS\")"
   ]
  },
  {
   "cell_type": "code",
   "execution_count": null,
   "id": "3bcbb613-3cff-49b9-aaef-8da35af3c6f2",
   "metadata": {
    "vscode": {
     "languageId": "r"
    }
   },
   "outputs": [],
   "source": [
    "head(colnames(atac_obj))"
   ]
  },
  {
   "cell_type": "code",
   "execution_count": null,
   "id": "9fa6c2cc-7a77-4fca-aaaf-6b178cb18d23",
   "metadata": {
    "vscode": {
     "languageId": "r"
    }
   },
   "outputs": [],
   "source": [
    "head(gex_obj$atac_cellID)"
   ]
  },
  {
   "cell_type": "code",
   "execution_count": 10,
   "id": "6b953caf-43f6-4b62-91ac-a32d7a84720b",
   "metadata": {
    "vscode": {
     "languageId": "r"
    }
   },
   "outputs": [],
   "source": [
    "colnames(gex_obj) = gex_obj$atac_cellID"
   ]
  },
  {
   "cell_type": "code",
   "execution_count": 12,
   "id": "3587f274-def4-44b4-8ce7-2d4eb0dc90d2",
   "metadata": {
    "vscode": {
     "languageId": "r"
    }
   },
   "outputs": [],
   "source": [
    "common.cells <- intersect(colnames(gex_obj), colnames(atac_obj))\n",
    "gex <- subset(gex_obj, cells = common.cells)\n"
   ]
  },
  {
   "cell_type": "code",
   "execution_count": null,
   "id": "9bef955f-4d9e-4506-b035-9bfbc2412253",
   "metadata": {
    "vscode": {
     "languageId": "r"
    }
   },
   "outputs": [],
   "source": [
    "dim(gex)\n",
    "dim(atac_obj)"
   ]
  },
  {
   "cell_type": "code",
   "execution_count": 17,
   "id": "dabc3692-7cd2-4f9e-80d6-d4f8dc08af3a",
   "metadata": {
    "vscode": {
     "languageId": "r"
    }
   },
   "outputs": [
    {
     "data": {
      "text/html": [
       "TRUE"
      ],
      "text/latex": [
       "TRUE"
      ],
      "text/markdown": [
       "TRUE"
      ],
      "text/plain": [
       "[1] TRUE"
      ]
     },
     "metadata": {},
     "output_type": "display_data"
    }
   ],
   "source": [
    "# check if the colnames are the same\n",
    "setequal(colnames(gex), colnames(atac_obj))\n"
   ]
  },
  {
   "cell_type": "code",
   "execution_count": 18,
   "id": "3f510407-159a-4b06-8a47-7d6160251ca9",
   "metadata": {
    "vscode": {
     "languageId": "r"
    }
   },
   "outputs": [],
   "source": [
    "# Extract ATAC assay and add it to the GEX object\n",
    "atac_assay <- atac_obj[[\"peaks\"]]  \n",
    "gex[[\"peaks\"]] <- atac_assay"
   ]
  },
  {
   "cell_type": "code",
   "execution_count": 30,
   "id": "7e915065-dfb1-4386-9cd0-5d99d0e0a5f7",
   "metadata": {
    "vscode": {
     "languageId": "r"
    }
   },
   "outputs": [],
   "source": [
    "atac_meta = atac_obj@meta.data\n",
    "gex_meta = gex@meta.data"
   ]
  },
  {
   "cell_type": "code",
   "execution_count": 35,
   "id": "5c0d0c22-2de8-473d-b98f-fab266c1f052",
   "metadata": {
    "vscode": {
     "languageId": "r"
    }
   },
   "outputs": [],
   "source": [
    "atac_meta = atac_meta[rownames(gex_meta), ]"
   ]
  },
  {
   "cell_type": "code",
   "execution_count": null,
   "id": "dc0ca660-b0d4-4451-8c3b-9de939e40569",
   "metadata": {
    "vscode": {
     "languageId": "r"
    }
   },
   "outputs": [
    {
     "data": {
      "text/html": [
       "TRUE"
      ],
      "text/latex": [
       "TRUE"
      ],
      "text/markdown": [
       "TRUE"
      ],
      "text/plain": [
       "[1] TRUE"
      ]
     },
     "metadata": {},
     "output_type": "display_data"
    }
   ],
   "source": [
    "identical(rownames(atac_meta), rownames(gex@meta.data))  \n"
   ]
  },
  {
   "cell_type": "code",
   "execution_count": 37,
   "id": "f3bc6602-585e-4d9f-812d-4af126e62a22",
   "metadata": {
    "vscode": {
     "languageId": "r"
    }
   },
   "outputs": [],
   "source": [
    "gex@meta.data <- cbind(gex@meta.data, atac_meta)"
   ]
  },
  {
   "cell_type": "code",
   "execution_count": 40,
   "id": "2822b313-4b17-4dad-b02b-81eb759ba514",
   "metadata": {
    "vscode": {
     "languageId": "r"
    }
   },
   "outputs": [],
   "source": [
    "saveRDS(gex, \"atac_gex_combined_obj.RDS\")"
   ]
  },
  {
   "cell_type": "markdown",
   "id": "e2aafd80-6aa9-4706-9b2b-13cac9153ad4",
   "metadata": {},
   "source": [
    "# Linking peaks to genes of interest (ccr7, Il12b, cd80, cd86)"
   ]
  },
  {
   "cell_type": "code",
   "execution_count": null,
   "id": "191b3beb-2b88-43f7-969a-73a6b48b0b21",
   "metadata": {
    "vscode": {
     "languageId": "r"
    }
   },
   "outputs": [],
   "source": [
    "DefaultAssay(gex) <- \"peaks\"\n",
    "gex <- RegionStats(gex, genome = BSgenome.Mmusculus.UCSC.mm10)\n",
    "\n",
    "# link peaks to genes\n",
    "gex <- LinkPeaks(\n",
    "  object = gex,\n",
    "  peak.assay = \"peaks\",\n",
    "  expression.assay = \"RNA\",\n",
    "  genes.use = c(\"Ccr7\", \"Il12b\", \"Cd80\", \"Cd86\")\n",
    ")"
   ]
  },
  {
   "cell_type": "code",
   "execution_count": 52,
   "id": "2c6106f7-ed13-47b9-bf49-0fa2ab3f49a0",
   "metadata": {
    "vscode": {
     "languageId": "r"
    }
   },
   "outputs": [],
   "source": [
    "saveRDS(gex, \"atac_gex_combined_obj.RDS\")"
   ]
  }
 ],
 "metadata": {
  "kernelspec": {
   "display_name": "R [conda env:root] *",
   "language": "R",
   "name": "conda-root-r"
  },
  "language_info": {
   "codemirror_mode": "r",
   "file_extension": ".r",
   "mimetype": "text/x-r-source",
   "name": "R",
   "pygments_lexer": "r",
   "version": "4.4.0"
  }
 },
 "nbformat": 4,
 "nbformat_minor": 5
}
